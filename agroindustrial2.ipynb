{
  "nbformat": 4,
  "nbformat_minor": 0,
  "metadata": {
    "colab": {
      "provenance": [],
      "authorship_tag": "ABX9TyPp9AzeG/pK7ZDQZkM+oRaK",
      "include_colab_link": true
    },
    "kernelspec": {
      "name": "python3",
      "display_name": "Python 3"
    },
    "language_info": {
      "name": "python"
    }
  },
  "cells": [
    {
      "cell_type": "markdown",
      "metadata": {
        "id": "view-in-github",
        "colab_type": "text"
      },
      "source": [
        "<a href=\"https://colab.research.google.com/github/cervanteskarlet2006-sys/agroindustrial2/blob/main/agroindustrial2.ipynb\" target=\"_parent\"><img src=\"https://colab.research.google.com/assets/colab-badge.svg\" alt=\"Open In Colab\"/></a>"
      ]
    },
    {
      "cell_type": "code",
      "execution_count": null,
      "metadata": {
        "id": "HDV4ZDu-zptQ"
      },
      "outputs": [],
      "source": []
    },
    {
      "cell_type": "code",
      "metadata": {
        "colab": {
          "base_uri": "https://localhost:8080/"
        },
        "id": "f0f8d950",
        "outputId": "8acf447d-a2e8-49ef-a674-202360dc619d"
      },
      "source": [
        "# Opción 1: Usando variables directamente\n",
        "numero1 = 5\n",
        "numero2 = 10\n",
        "suma = numero1 + numero2\n",
        "print(f\"La suma de {numero1} y {numero2} es: {suma}\")"
      ],
      "execution_count": 1,
      "outputs": [
        {
          "output_type": "stream",
          "name": "stdout",
          "text": [
            "La suma de 5 y 10 es: 15\n"
          ]
        }
      ]
    },
    {
      "cell_type": "code",
      "metadata": {
        "colab": {
          "base_uri": "https://localhost:8080/"
        },
        "id": "2437a6a0",
        "outputId": "93d90039-04e6-4431-9e59-e34dc802d7d3"
      },
      "source": [
        "# Opción 2: Usando una función\n",
        "def sumar_numeros(a, b):\n",
        "  return a + b\n",
        "\n",
        "num_a = 7\n",
        "num_b = 3\n",
        "resultado = sumar_numeros(num_a, num_b)\n",
        "print(f\"La suma de {num_a} y {num_b} usando una función es: {resultado}\")"
      ],
      "execution_count": 2,
      "outputs": [
        {
          "output_type": "stream",
          "name": "stdout",
          "text": [
            "La suma de 7 y 3 usando una función es: 10\n"
          ]
        }
      ]
    },
    {
      "cell_type": "markdown",
      "metadata": {
        "id": "95973642"
      },
      "source": [
        "Este código define y utiliza una función para sumar dos números. Aquí te explico cada parte:\n",
        "\n",
        "1.  **`def sumar_numeros(a, b):`**: Esta línea define una función llamada `sumar_numeros`. Esta función toma dos argumentos, `a` y `b`, que serán los números que queremos sumar.\n",
        "2.  **`return a + b`**: Dentro de la función, esta línea realiza la suma de los argumentos `a` y `b` y devuelve el resultado.\n",
        "3.  **`num_a = 7`** y **`num_b = 3`**: Aquí se asignan los valores 7 y 3 a las variables `num_a` y `num_b` respectivamente.\n",
        "4.  **`resultado = sumar_numeros(num_a, num_b)`**: En esta línea, se llama a la función `sumar_numeros` pasando `num_a` (que es 7) y `num_b` (que es 3) como argumentos. El valor que devuelve la función (la suma de 7 y 3, que es 10) se asigna a la variable `resultado`.\n",
        "5.  **`print(f\"La suma de {num_a} y {num_b} usando una función es: {resultado}\")`**: Finalmente, esta línea imprime el resultado en la consola. Utiliza una cadena formateada (f-string) para incluir los valores de `num_a`, `num_b` y `resultado` directamente en el texto.\n",
        "\n",
        "En resumen, este código demuestra cómo crear una función reutilizable para realizar una tarea específica (sumar dos números) y luego cómo llamar a esa función con diferentes valores."
      ]
    },
    {
      "cell_type": "code",
      "metadata": {
        "colab": {
          "base_uri": "https://localhost:8080/"
        },
        "id": "66229ff1",
        "outputId": "07ac2d45-889a-42fe-f6c3-0bd2e734105d"
      },
      "source": [
        "# Definimos dos números para las operaciones\n",
        "num1 = 20\n",
        "num2 = 5\n",
        "\n",
        "# Suma\n",
        "suma = num1 + num2\n",
        "print(f\"Suma: {num1} + {num2} = {suma}\")\n",
        "\n",
        "# Resta\n",
        "resta = num1 - num2\n",
        "print(f\"Resta: {num1} - {num2} = {resta}\")\n",
        "\n",
        "# Multiplicación\n",
        "multiplicacion = num1 * num2\n",
        "print(f\"Multiplicación: {num1} * {num2} = {multiplicacion}\")\n",
        "\n",
        "# División (flotante)\n",
        "division_flotante = num1 / num2\n",
        "print(f\"División (flotante): {num1} / {num2} = {division_flotante}\")\n",
        "\n",
        "# División (entera)\n",
        "division_entera = num1 // num2\n",
        "print(f\"División (entera): {num1} // {num2} = {division_entera}\")\n",
        "\n",
        "# Módulo (resto de la división)\n",
        "modulo = num1 % num2\n",
        "print(f\"Módulo: {num1} % {num2} = {modulo}\")\n",
        "\n",
        "# Exponenciación\n",
        "exponenciacion = num1 ** num2\n",
        "print(f\"Exponenciación: {num1} ** {num2} = {exponenciacion}\")"
      ],
      "execution_count": 3,
      "outputs": [
        {
          "output_type": "stream",
          "name": "stdout",
          "text": [
            "Suma: 20 + 5 = 25\n",
            "Resta: 20 - 5 = 15\n",
            "Multiplicación: 20 * 5 = 100\n",
            "División (flotante): 20 / 5 = 4.0\n",
            "División (entera): 20 // 5 = 4\n",
            "Módulo: 20 % 5 = 0\n",
            "Exponenciación: 20 ** 5 = 3200000\n"
          ]
        }
      ]
    },
    {
      "cell_type": "markdown",
      "metadata": {
        "id": "d0385fea"
      },
      "source": [
        "Aquí tienes la explicación línea por línea del código que realiza las operaciones aritméticas:\n",
        "\n",
        "*   **`# Definimos dos números para las operaciones`**: Esta es una línea de comentario que indica el propósito del siguiente bloque de código.\n",
        "*   **`num1 = 20`**: Asigna el valor entero `20` a la variable `num1`.\n",
        "*   **`num2 = 5`**: Asigna el valor entero `5` a la variable `num2`.\n",
        "*   **`# Suma`**: Comentario que indica que la siguiente línea realiza una suma.\n",
        "*   **`suma = num1 + num2`**: Realiza la operación de suma entre `num1` y `num2` (20 + 5) y asigna el resultado (`25`) a la variable `suma`.\n",
        "*   **`print(f\"Suma: {num1} + {num2} = {suma}\")`**: Imprime en la consola una cadena formateada que muestra la operación de suma y su resultado.\n",
        "*   **`# Resta`**: Comentario que indica que la siguiente línea realiza una resta.\n",
        "*   **`resta = num1 - num2`**: Realiza la operación de resta entre `num1` y `num2` (20 - 5) y asigna el resultado (`15`) a la variable `resta`.\n",
        "*   **`print(f\"Resta: {num1} - {num2} = {resta}\")`**: Imprime en la consola una cadena formateada que muestra la operación de resta y su resultado.\n",
        "*   **`# Multiplicación`**: Comentario que indica que la siguiente línea realiza una multiplicación.\n",
        "*   **`multiplicacion = num1 * num2`**: Realiza la operación de multiplicación entre `num1` y `num2` (20 * 5) y asigna el resultado (`100`) a la variable `multiplicacion`.\n",
        "*   **`print(f\"Multiplicación: {num1} * {num2} = {multiplicacion}\")`**: Imprime en la consola una cadena formateada que muestra la operación de multiplicación y su resultado.\n",
        "*   **`# División (flotante)`**: Comentario que indica que la siguiente línea realiza una división que puede resultar en un número con decimales (flotante).\n",
        "*   **`division_flotante = num1 / num2`**: Realiza la operación de división entre `num1` y `num2` (20 / 5) y asigna el resultado (`4.0`) a la variable `division_flotante`. La división con `/` siempre devuelve un flotante en Python 3.\n",
        "*   **`print(f\"División (flotante): {num1} / {num2} = {division_flotante}\")`**: Imprime en la consola una cadena formateada que muestra la operación de división flotante y su resultado.\n",
        "*   **`# División (entera)`**: Comentario que indica que la siguiente línea realiza una división entera (el resultado se trunca al número entero más cercano hacia cero).\n",
        "*   **`division_entera = num1 // num2`**: Realiza la operación de división entera entre `num1` y `num2` (20 // 5) y asigna el resultado (`4`) a la variable `division_entera`.\n",
        "*   **`print(f\"División (entera): {num1} // {num2} = {division_entera}\")`**: Imprime en la consola una cadena formateada que muestra la operación de división entera y su resultado.\n",
        "*   **`# Módulo (resto de la división)`**: Comentario que indica que la siguiente línea calcula el resto de la división.\n",
        "*   **`modulo = num1 % num2`**: Realiza la operación de módulo entre `num1` y `num2` (el resto de 20 dividido por 5) y asigna el resultado (`0`) a la variable `modulo`.\n",
        "*   **`print(f\"Módulo: {num1} % {num2} = {modulo}\")`**: Imprime en la consola una cadena formateada que muestra la operación de módulo y su resultado.\n",
        "*   **`# Exponenciación`**: Comentario que indica que la siguiente línea realiza una exponenciación (elevar un número a una potencia).\n",
        "*   **`exponenciacion = num1 ** num2`**: Realiza la operación de exponenciación, elevando `num1` a la potencia de `num2` (20 elevado a la 5) y asigna el resultado (`3200000`) a la variable `exponenciacion`.\n",
        "*   **`print(f\"Exponenciación: {num1} ** {num2} = {exponenciacion}\")`**: Imprime en la consola una cadena formateada que muestra la operación de exponenciación y su resultado."
      ]
    }
  ]
}