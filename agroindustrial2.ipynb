{
  "nbformat": 4,
  "nbformat_minor": 0,
  "metadata": {
    "colab": {
      "provenance": [],
      "authorship_tag": "ABX9TyPVcTtCB3VletEDhE++9k9W",
      "include_colab_link": true
    },
    "kernelspec": {
      "name": "python3",
      "display_name": "Python 3"
    },
    "language_info": {
      "name": "python"
    }
  },
  "cells": [
    {
      "cell_type": "markdown",
      "metadata": {
        "id": "view-in-github",
        "colab_type": "text"
      },
      "source": [
        "<a href=\"https://colab.research.google.com/github/cervanteskarlet2006-sys/agroindustrial2/blob/main/agroindustrial2.ipynb\" target=\"_parent\"><img src=\"https://colab.research.google.com/assets/colab-badge.svg\" alt=\"Open In Colab\"/></a>"
      ]
    },
    {
      "cell_type": "code",
      "execution_count": null,
      "metadata": {
        "id": "HDV4ZDu-zptQ"
      },
      "outputs": [],
      "source": []
    },
    {
      "cell_type": "code",
      "metadata": {
        "colab": {
          "base_uri": "https://localhost:8080/"
        },
        "id": "f0f8d950",
        "outputId": "8acf447d-a2e8-49ef-a674-202360dc619d"
      },
      "source": [
        "# Opción 1: Usando variables directamente\n",
        "numero1 = 5\n",
        "numero2 = 10\n",
        "suma = numero1 + numero2\n",
        "print(f\"La suma de {numero1} y {numero2} es: {suma}\")"
      ],
      "execution_count": 1,
      "outputs": [
        {
          "output_type": "stream",
          "name": "stdout",
          "text": [
            "La suma de 5 y 10 es: 15\n"
          ]
        }
      ]
    },
    {
      "cell_type": "code",
      "metadata": {
        "colab": {
          "base_uri": "https://localhost:8080/"
        },
        "id": "2437a6a0",
        "outputId": "93d90039-04e6-4431-9e59-e34dc802d7d3"
      },
      "source": [
        "# Opción 2: Usando una función\n",
        "def sumar_numeros(a, b):\n",
        "  return a + b\n",
        "\n",
        "num_a = 7\n",
        "num_b = 3\n",
        "resultado = sumar_numeros(num_a, num_b)\n",
        "print(f\"La suma de {num_a} y {num_b} usando una función es: {resultado}\")"
      ],
      "execution_count": 2,
      "outputs": [
        {
          "output_type": "stream",
          "name": "stdout",
          "text": [
            "La suma de 7 y 3 usando una función es: 10\n"
          ]
        }
      ]
    }
  ]
}