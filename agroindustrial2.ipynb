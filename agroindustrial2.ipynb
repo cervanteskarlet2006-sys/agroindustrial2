{
  "nbformat": 4,
  "nbformat_minor": 0,
  "metadata": {
    "colab": {
      "provenance": [],
      "authorship_tag": "ABX9TyODCxIMWIvFTyRuEwpOGUup",
      "include_colab_link": true
    },
    "kernelspec": {
      "name": "python3",
      "display_name": "Python 3"
    },
    "language_info": {
      "name": "python"
    }
  },
  "cells": [
    {
      "cell_type": "markdown",
      "metadata": {
        "id": "view-in-github",
        "colab_type": "text"
      },
      "source": [
        "<a href=\"https://colab.research.google.com/github/cervanteskarlet2006-sys/agroindustrial2/blob/main/agroindustrial2.ipynb\" target=\"_parent\"><img src=\"https://colab.research.google.com/assets/colab-badge.svg\" alt=\"Open In Colab\"/></a>"
      ]
    },
    {
      "cell_type": "code",
      "execution_count": null,
      "metadata": {
        "id": "HDV4ZDu-zptQ"
      },
      "outputs": [],
      "source": []
    },
    {
      "cell_type": "code",
      "metadata": {
        "colab": {
          "base_uri": "https://localhost:8080/"
        },
        "id": "f0f8d950",
        "outputId": "8acf447d-a2e8-49ef-a674-202360dc619d"
      },
      "source": [
        "# Opción 1: Usando variables directamente\n",
        "numero1 = 5\n",
        "numero2 = 10\n",
        "suma = numero1 + numero2\n",
        "print(f\"La suma de {numero1} y {numero2} es: {suma}\")"
      ],
      "execution_count": 1,
      "outputs": [
        {
          "output_type": "stream",
          "name": "stdout",
          "text": [
            "La suma de 5 y 10 es: 15\n"
          ]
        }
      ]
    },
    {
      "cell_type": "code",
      "metadata": {
        "colab": {
          "base_uri": "https://localhost:8080/"
        },
        "id": "2437a6a0",
        "outputId": "93d90039-04e6-4431-9e59-e34dc802d7d3"
      },
      "source": [
        "# Opción 2: Usando una función\n",
        "def sumar_numeros(a, b):\n",
        "  return a + b\n",
        "\n",
        "num_a = 7\n",
        "num_b = 3\n",
        "resultado = sumar_numeros(num_a, num_b)\n",
        "print(f\"La suma de {num_a} y {num_b} usando una función es: {resultado}\")"
      ],
      "execution_count": 2,
      "outputs": [
        {
          "output_type": "stream",
          "name": "stdout",
          "text": [
            "La suma de 7 y 3 usando una función es: 10\n"
          ]
        }
      ]
    },
    {
      "cell_type": "markdown",
      "metadata": {
        "id": "95973642"
      },
      "source": [
        "Este código define y utiliza una función para sumar dos números. Aquí te explico cada parte:\n",
        "\n",
        "1.  **`def sumar_numeros(a, b):`**: Esta línea define una función llamada `sumar_numeros`. Esta función toma dos argumentos, `a` y `b`, que serán los números que queremos sumar.\n",
        "2.  **`return a + b`**: Dentro de la función, esta línea realiza la suma de los argumentos `a` y `b` y devuelve el resultado.\n",
        "3.  **`num_a = 7`** y **`num_b = 3`**: Aquí se asignan los valores 7 y 3 a las variables `num_a` y `num_b` respectivamente.\n",
        "4.  **`resultado = sumar_numeros(num_a, num_b)`**: En esta línea, se llama a la función `sumar_numeros` pasando `num_a` (que es 7) y `num_b` (que es 3) como argumentos. El valor que devuelve la función (la suma de 7 y 3, que es 10) se asigna a la variable `resultado`.\n",
        "5.  **`print(f\"La suma de {num_a} y {num_b} usando una función es: {resultado}\")`**: Finalmente, esta línea imprime el resultado en la consola. Utiliza una cadena formateada (f-string) para incluir los valores de `num_a`, `num_b` y `resultado` directamente en el texto.\n",
        "\n",
        "En resumen, este código demuestra cómo crear una función reutilizable para realizar una tarea específica (sumar dos números) y luego cómo llamar a esa función con diferentes valores."
      ]
    }
  ]
}